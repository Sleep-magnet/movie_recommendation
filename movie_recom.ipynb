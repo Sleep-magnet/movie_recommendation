{
 "cells": [
  {
   "cell_type": "code",
   "execution_count": 31,
   "id": "24a58027-8ebd-46fa-a18c-12d4ad76e348",
   "metadata": {},
   "outputs": [
    {
     "name": "stdout",
     "output_type": "stream",
     "text": [
      "Requirement already satisfied: pandas in c:\\users\\dhanush.thiyaree\\appdata\\local\\programs\\python\\python312\\lib\\site-packages (2.2.3)\n",
      "Requirement already satisfied: scikit-learn in c:\\users\\dhanush.thiyaree\\appdata\\local\\programs\\python\\python312\\lib\\site-packages (1.6.1)\n",
      "Requirement already satisfied: numpy>=1.26.0 in c:\\users\\dhanush.thiyaree\\appdata\\local\\programs\\python\\python312\\lib\\site-packages (from pandas) (2.0.2)\n",
      "Requirement already satisfied: python-dateutil>=2.8.2 in c:\\users\\dhanush.thiyaree\\appdata\\local\\programs\\python\\python312\\lib\\site-packages (from pandas) (2.9.0.post0)\n",
      "Requirement already satisfied: pytz>=2020.1 in c:\\users\\dhanush.thiyaree\\appdata\\local\\programs\\python\\python312\\lib\\site-packages (from pandas) (2024.1)\n",
      "Requirement already satisfied: tzdata>=2022.7 in c:\\users\\dhanush.thiyaree\\appdata\\local\\programs\\python\\python312\\lib\\site-packages (from pandas) (2024.1)\n",
      "Requirement already satisfied: scipy>=1.6.0 in c:\\users\\dhanush.thiyaree\\appdata\\local\\programs\\python\\python312\\lib\\site-packages (from scikit-learn) (1.15.2)\n",
      "Requirement already satisfied: joblib>=1.2.0 in c:\\users\\dhanush.thiyaree\\appdata\\local\\programs\\python\\python312\\lib\\site-packages (from scikit-learn) (1.4.2)\n",
      "Requirement already satisfied: threadpoolctl>=3.1.0 in c:\\users\\dhanush.thiyaree\\appdata\\local\\programs\\python\\python312\\lib\\site-packages (from scikit-learn) (3.6.0)\n",
      "Requirement already satisfied: six>=1.5 in c:\\users\\dhanush.thiyaree\\appdata\\local\\programs\\python\\python312\\lib\\site-packages (from python-dateutil>=2.8.2->pandas) (1.16.0)\n"
     ]
    }
   ],
   "source": [
    "!pip install pandas scikit-learn\n"
   ]
  },
  {
   "cell_type": "code",
   "execution_count": 32,
   "id": "45eba65c-e2e7-454b-9175-2574b44e6907",
   "metadata": {},
   "outputs": [],
   "source": [
    "import pandas as pd\n",
    "import numpy as np\n",
    "from sklearn.feature_extraction.text import CountVectorizer\n",
    "from sklearn.metrics.pairwise import cosine_similarity\n"
   ]
  },
  {
   "cell_type": "code",
   "execution_count": 33,
   "id": "65ed0426-0fab-44f6-a6ef-1a773db8a160",
   "metadata": {},
   "outputs": [],
   "source": [
    "# Convert soup text to vector representation\n",
    "vectorizer = CountVectorizer(stop_words='english')\n",
    "soup_matrix = vectorizer.fit_transform(movie_df['soup'])\n"
   ]
  },
  {
   "cell_type": "code",
   "execution_count": 34,
   "id": "f1d8af4a-b7ec-4310-909b-4f50019d4fd9",
   "metadata": {},
   "outputs": [],
   "source": [
    "# Calculate cosine similarity between movies\n",
    "cosine_sim = cosine_similarity(soup_matrix, soup_matrix)\n"
   ]
  },
  {
   "cell_type": "code",
   "execution_count": 35,
   "id": "2f5c746b-cc88-4e86-8569-fa9f2d71a4c2",
   "metadata": {},
   "outputs": [],
   "source": [
    "# Map movie titles to indices\n",
    "indices = pd.Series(movie_df.index, index=movie_df['movie_title'].str.strip().str.lower()).drop_duplicates()\n"
   ]
  },
  {
   "cell_type": "code",
   "execution_count": 36,
   "id": "c0a14158-8226-4069-b08d-481afb2d7d54",
   "metadata": {},
   "outputs": [],
   "source": [
    "# Define the function to get similar movies\n",
    "def recommend(title, cosine_sim=cosine_sim):\n",
    "    title = title.strip().lower()\n",
    "    if title not in indices:\n",
    "        return f\"Movie '{title}' not found in the dataset.\"\n",
    "    idx = indices[title]\n",
    "    sim_scores = list(enumerate(cosine_sim[idx]))\n",
    "    sim_scores = sorted(sim_scores, key=lambda x: x[1], reverse=True)[1:11]\n",
    "    movie_indices = [i[0] for i in sim_scores]\n",
    "    return movie_df['movie_title'].iloc[movie_indices].tolist()\n"
   ]
  },
  {
   "cell_type": "code",
   "execution_count": 37,
   "id": "a9591e33-7cc9-4144-b557-7b5b96239fef",
   "metadata": {},
   "outputs": [
    {
     "name": "stdin",
     "output_type": "stream",
     "text": [
      "Enter a movie title:  fight club\n"
     ]
    },
    {
     "name": "stdout",
     "output_type": "stream",
     "text": [
      "\n",
      "Top 10 Recommended Movies:\n",
      "1. The Curious Case of Benjamin Button\n",
      "2. Se7en\n",
      "3. Silver Linings Playbook\n",
      "4. Fury\n",
      "5. Babel\n",
      "6. Burn After Reading\n",
      "7. By the Sea\n",
      "8. Inglourious Basterds\n",
      "9. Moneyball\n",
      "10. The Social Network\n"
     ]
    }
   ],
   "source": [
    "# Ask user to input a movie title\n",
    "user_input = input(\"Enter a movie title: \")\n",
    "recommendations = recommend(user_input)\n",
    "print(\"\\nTop 10 Recommended Movies:\")\n",
    "if isinstance(recommendations, list):\n",
    "    for i, title in enumerate(recommendations, start=1):\n",
    "        print(f\"{i}. {title.strip()}\")\n",
    "else:\n",
    "    print(recommendations)  # prints error message if movie not found\n"
   ]
  },
  {
   "cell_type": "code",
   "execution_count": null,
   "id": "5e7db154-dd00-4114-a5aa-0b4a4aad9dd5",
   "metadata": {},
   "outputs": [],
   "source": []
  }
 ],
 "metadata": {
  "kernelspec": {
   "display_name": "Python 3 (ipykernel)",
   "language": "python",
   "name": "python3"
  },
  "language_info": {
   "codemirror_mode": {
    "name": "ipython",
    "version": 3
   },
   "file_extension": ".py",
   "mimetype": "text/x-python",
   "name": "python",
   "nbconvert_exporter": "python",
   "pygments_lexer": "ipython3",
   "version": "3.12.5"
  }
 },
 "nbformat": 4,
 "nbformat_minor": 5
}
